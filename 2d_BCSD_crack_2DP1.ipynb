{
 "cells": [
  {
   "attachments": {},
   "cell_type": "markdown",
   "id": "57c63c3c-181f-4b92-961e-31fa8f4f587d",
   "metadata": {
    "tags": []
   },
   "source": [
    "# 2D BCSD Crack example (2DP1)"
   ]
  },
  {
   "cell_type": "markdown",
   "id": "d61c4512",
   "metadata": {},
   "source": [
    "When the following traction boundary conditions are specified as follows,\n",
    "$$\n",
    "t(x) =\n",
    "    \\begin{cases}\n",
    "        -\\sigma_A & \\text{if } x \\leq |a|\\\\\n",
    "        \\tau_F-\\sigma_A & \\text{if } |c| \\geq x > |a|\n",
    "    \\end{cases}\n",
    "$$\n",
    "\n",
    "Then, the analytical displacement solution for the BCSD crack is given as seen in Weertman (1996), \n",
    "$$\n",
    "D(x) = {2\\alpha_i \\tau_F \\over \\pi G} \\{ x \\ln \\big| {x\\sqrt{c^2 - a^2} + a\\sqrt{c^2 - x^2} \\over x\\sqrt{c^2 - a^2} - a\\sqrt{c^2 - x^2}} \\big| - a \\ln \\big| {\\sqrt{c^2 - a^2} + \\sqrt{c^2 - x^2} \\over \\sqrt{c^2 - a^2} - \\sqrt{c^2 - x^2}} \\big| \\}\n",
    "$$"
   ]
  },
  {
   "cell_type": "code",
   "execution_count": 1,
   "id": "3aeaea83-1794-4f4f-bd95-807d900e301f",
   "metadata": {},
   "outputs": [],
   "source": [
    "import numpy as np\n",
    "import sys\n",
    "import os\n",
    "np.set_printoptions(precision=5, suppress=True)\n",
    "import matplotlib.pyplot as plt\n",
    "from matplotlib import ticker, cm, colors\n",
    "%matplotlib inline\n",
    "# %config InlineBackend.figure_format = 'retina'\n",
    "plt.rcParams['figure.figsize'] = [3.5, 3.5]\n",
    "plt.rcParams['font.size'] = 15\n",
    "plt.rcParams['text.usetex']=True\n",
    "plt.rcParams[\"savefig.bbox\"] = \"tight\"\n",
    "plt.rcParams[\"savefig.pad_inches\"] = 0.1\n",
    "plt.rcParams[\"savefig.dpi\"] = 100\n",
    "plt.rcParams[\"text.latex.preamble\"] =r'\\usepackage{amsmath}'+ r'\\usepackage{amssymb}' + r'\\usepackage{accents}'+ r'\\usepackage{bm}'+ r'\\boldmath'+ r'\\renewcommand{\\v}[1]{\\boldsymbol{{#1}}}'+ r'\\DeclareRobustCommand{\\sot}[1]{\\boldsymbol{{#1}}}'\n",
    "\n",
    "norm1 = lambda a : np.linalg.norm(a, axis=1)\n",
    "norm = lambda a : np.linalg.norm(a)\n",
    "\n",
    "home = os.environ['HOME'] \n",
    "# sys.path.append(home + \"/geolab/dev_bigwham/build/interfaces/python\")\n",
    "# from bigwham4py import Hmatrix  # linear operator file\n",
    "\n",
    "sys.path.append(home + \"/Desktop/GEL/BigWham/build/interfaces/python\")\n",
    "from hmatrix import Hmatrix  # linear operator file"
   ]
  },
  {
   "cell_type": "code",
   "execution_count": 2,
   "id": "251b517b-4f79-4596-a914-72131777205a",
   "metadata": {
    "tags": []
   },
   "outputs": [
    {
     "name": "stdout",
     "output_type": "stream",
     "text": [
      " Now setting things for kernel ... 2DP1 with properties size 2\n",
      "Cluster tree creation time :  0\n",
      "Time for binary cluster tree construction  2.24e-06\n",
      "Binary cluster tree depth = 1\n",
      "Number of blocks = 4\n",
      "Number of full blocks = 4\n",
      "Number of low rank blocks = 0\n",
      "Pattern Created \n",
      " Loop on full blocks construction  \n",
      " N full blocks 4 \n",
      "Loop on low rank blocks construction\n",
      "N low rank blocks 0\n",
      "dof_dimension: 2\n",
      "Creation of hmat done in 0.00977745\n",
      "Compression ratio - 1\n",
      "Hmat object - built \n",
      "HMAT --> built \n",
      "HMAT set, CR = 1, eps_aca = 0.0001, eta = 3\n",
      "BigWhamIO ENDED\n"
     ]
    }
   ],
   "source": [
    "G = 1.0\n",
    "nu = 0.25\n",
    "E = (2 * G) * (1 + nu)\n",
    "alpha = 1 - nu\n",
    "\n",
    "tau_F = 1.0\n",
    "sigma_A = (2 * tau_F)/3\n",
    "\n",
    "ct_pressure = -sigma_A\n",
    "pz_pressure = tau_F - sigma_A\n",
    "\n",
    "pre_fac = - 2 * ((alpha*tau_F) / (np.pi*G))\n",
    "\n",
    "a = 1.0 \n",
    "c = 2.0\n",
    "\n",
    "#plastic zone formula\n",
    "#pz_fac_2 = 1 + 2*pz_fac*np.sin((np.pi*sigma_A)/(4*tau_F))**2\n",
    "#c_2 = a*pz_fac_2\n",
    "\n",
    "# Mesh\n",
    "nelts = 100\n",
    "coor1D = np.linspace(-c, c, nelts + 1)\n",
    "coor = np.transpose(np.array([coor1D, coor1D * 0.0]))\n",
    "conn = np.fromfunction(lambda i, j: i + j, (nelts, 2), dtype=np.int_)\n",
    "\n",
    "# H-matrix parameters\n",
    "max_leaf_size = 100\n",
    "eta = 3.\n",
    "eps_aca = 1.e-4\n",
    "\n",
    "# Hmatrix\n",
    "kernel = \"2DP1\"\n",
    "elas_prop = np.array([E, nu])\n",
    "hmat = Hmatrix(kernel, coor, conn, elas_prop, max_leaf_size, eta, eps_aca)\n",
    "\n",
    "# get augmented collocation points\n",
    "col_pts_aug = np.zeros((conn.shape[0] * 2, conn.shape[1]))\n",
    "count = 0\n",
    "col_pts_aug[count, :] = coor[0, :]\n",
    "count += 1\n",
    "for i in range(1, coor.shape[0] -  1):\n",
    "    col_pts_aug[count, :] = coor[i, :]\n",
    "    count += 1\n",
    "    col_pts_aug[count, :] = coor[i, :]\n",
    "    count += 1\n",
    "col_pts_aug[count, :] = coor[i+1, :]"
   ]
  },
  {
   "cell_type": "code",
   "execution_count": 3,
   "id": "b09ae0bc",
   "metadata": {},
   "outputs": [
    {
     "name": "stderr",
     "output_type": "stream",
     "text": [
      "/tmp/ipykernel_31810/2654990578.py:10: RuntimeWarning: divide by zero encountered in log\n",
      "  disp = pre_fac * (col_pts_aug[:, 0][i]*np.log(abs((x_pzl2[i] + a_ctzl2[i])/(x_pzl2[i] - a_ctzl2[i]))) - a*np.log(abs((pzl2 + ctzl2[i])/(pzl2 - ctzl2[i]))))\n",
      "/tmp/ipykernel_31810/2654990578.py:10: RuntimeWarning: divide by zero encountered in scalar divide\n",
      "  disp = pre_fac * (col_pts_aug[:, 0][i]*np.log(abs((x_pzl2[i] + a_ctzl2[i])/(x_pzl2[i] - a_ctzl2[i]))) - a*np.log(abs((pzl2 + ctzl2[i])/(pzl2 - ctzl2[i]))))\n",
      "/tmp/ipykernel_31810/2654990578.py:10: RuntimeWarning: invalid value encountered in scalar subtract\n",
      "  disp = pre_fac * (col_pts_aug[:, 0][i]*np.log(abs((x_pzl2[i] + a_ctzl2[i])/(x_pzl2[i] - a_ctzl2[i]))) - a*np.log(abs((pzl2 + ctzl2[i])/(pzl2 - ctzl2[i]))))\n",
      "/tmp/ipykernel_31810/2654990578.py:14: RuntimeWarning: divide by zero encountered in divide\n",
      "  dd[:, 1] = pre_fac * (col_pts_aug[:, 0]*np.log(abs((x_pzl2 + a_ctzl2)/(x_pzl2 - a_ctzl2))) - a*np.log(abs((pzl2 + ctzl2)/(pzl2 - ctzl2))))\n",
      "/tmp/ipykernel_31810/2654990578.py:14: RuntimeWarning: divide by zero encountered in log\n",
      "  dd[:, 1] = pre_fac * (col_pts_aug[:, 0]*np.log(abs((x_pzl2 + a_ctzl2)/(x_pzl2 - a_ctzl2))) - a*np.log(abs((pzl2 + ctzl2)/(pzl2 - ctzl2))))\n",
      "/tmp/ipykernel_31810/2654990578.py:14: RuntimeWarning: invalid value encountered in subtract\n",
      "  dd[:, 1] = pre_fac * (col_pts_aug[:, 0]*np.log(abs((x_pzl2 + a_ctzl2)/(x_pzl2 - a_ctzl2))) - a*np.log(abs((pzl2 + ctzl2)/(pzl2 - ctzl2))))\n"
     ]
    }
   ],
   "source": [
    "dd = np.zeros(col_pts_aug.shape)\n",
    "\n",
    "pzl2 = np.sqrt(c**2 - a**2) \n",
    "x_pzl2 = col_pts_aug[:, 0]*pzl2\n",
    "ctzl2 = np.sqrt(c**2 - col_pts_aug[:, 0]**2)\n",
    "a_ctzl2 = a*ctzl2\n",
    "\n",
    "dd_alt = np.zeros(col_pts_aug.shape)\n",
    "for i in range(len(dd)):\n",
    "    disp = pre_fac * (col_pts_aug[:, 0][i]*np.log(abs((x_pzl2[i] + a_ctzl2[i])/(x_pzl2[i] - a_ctzl2[i]))) - a*np.log(abs((pzl2 + ctzl2[i])/(pzl2 - ctzl2[i]))))\n",
    "    dd_alt[:, 1][i] = disp\n",
    "\n",
    "#problem - nan value at derivative discontinuity\n",
    "dd[:, 1] = pre_fac * (col_pts_aug[:, 0]*np.log(abs((x_pzl2 + a_ctzl2)/(x_pzl2 - a_ctzl2))) - a*np.log(abs((pzl2 + ctzl2)/(pzl2 - ctzl2))))"
   ]
  },
  {
   "cell_type": "code",
   "execution_count": 5,
   "id": "fac612b8",
   "metadata": {},
   "outputs": [],
   "source": [
    "# calculate tractions\n",
    "t = hmat.matvec(dd.flatten())\n",
    "\n",
    "t_anal = np.zeros(col_pts_aug.shape)\n",
    "t_anal[:, 1] = ct_pressure\n",
    "for i in range(len(t_anal)):\n",
    "    if abs(col_pts_aug[i][0])>=a:\n",
    "        t_anal[i][1] = pz_pressure"
   ]
  },
  {
   "cell_type": "code",
   "execution_count": 18,
   "id": "baf71953",
   "metadata": {},
   "outputs": [
    {
     "data": {
      "text/plain": [
       "[<matplotlib.lines.Line2D at 0x7f13c1dc0d30>]"
      ]
     },
     "execution_count": 18,
     "metadata": {},
     "output_type": "execute_result"
    },
    {
     "data": {
      "image/png": "[encoded data removed]",
      "text/plain": [
       "<Figure size 350x350 with 1 Axes>"
      ]
     },
     "metadata": {},
     "output_type": "display_data"
    }
   ],
   "source": [
    "dd_norm = dd/(-a*pre_fac)\n",
    "plt.plot(col_pts_aug[:, 0], dd_norm[:, 1])\n",
    "# plt.show()\n",
    "#plt.ylim([0, 3])"
   ]
  },
  {
   "cell_type": "code",
   "execution_count": 6,
   "id": "6067a038",
   "metadata": {},
   "outputs": [
    {
     "data": {
      "text/plain": [
       "[<matplotlib.lines.Line2D at 0x7f39780c6f80>]"
      ]
     },
     "execution_count": 6,
     "metadata": {},
     "output_type": "execute_result"
    },
    {
     "data": {
      "image/png": "[encoded data removed]",
      "text/plain": [
       "<Figure size 350x350 with 1 Axes>"
      ]
     },
     "metadata": {},
     "output_type": "display_data"
    }
   ],
   "source": [
    "plt.plot(col_pts_aug[:, 0], t.reshape(-1, 2)[:, 1])\n",
    "# plt.xlim([-1 - 10 * 2 * c / nelts, -1 + 10 * 2 * c / nelts])\n",
    "\n",
    "#print(\"Calculated pressure between x = -\", a , \" and +\", a , \"is = \", t[101])\n",
    "#print(\"Calculated pressure between |x| = \", a , \" and \", c , \" is = \", t[1])"
   ]
  },
  {
   "cell_type": "code",
   "execution_count": 80,
   "id": "77eb6434",
   "metadata": {},
   "outputs": [
    {
     "name": "stdout",
     "output_type": "stream",
     "text": [
      "L2 Rel error 0.340651021557473 Now setting things for kernel ... 2DP0 with properties size 2\n",
      "Cluster tree creation time :  0\n",
      "Time for binary cluster tree construction  2.79e-07\n",
      "Binary cluster tree depth = 0\n",
      "Number of blocks = 1\n",
      "Number of full blocks = 1\n",
      "Number of low rank blocks = 0\n",
      "Pattern Created \n",
      " Loop on full blocks construction  \n",
      " N full blocks 1 \n",
      "Loop on low rank blocks construction\n",
      "N low rank blocks 0\n",
      "dof_dimension: 2\n",
      "Creation of hmat done in 9.062e-05\n",
      "Compression ratio - 1\n",
      "Hmat object - built \n",
      "HMAT --> built \n",
      "HMAT set, CR = 1, eps_aca = 0.0001, eta = 3\n",
      "BigWhamIO ENDED\n",
      "\n",
      " Now setting things for kernel ... 2DP0 with properties size 2\n",
      "Cluster tree creation time :  0\n",
      "Time for binary cluster tree construction  1.79e-07\n",
      "Binary cluster tree depth = 0\n",
      "Number of blocks = 1\n",
      "Number of full blocks = 1\n",
      "Number of low rank blocks = 0\n",
      "Pattern Created \n",
      " Loop on full blocks construction  \n",
      " N full blocks 1 \n",
      "Loop on low rank blocks construction\n",
      "N low rank blocks 0\n",
      "dof_dimension: 2\n",
      "Creation of hmat done in 9.6154e-05\n",
      "Compression ratio - 1\n",
      "Hmat object - built \n",
      "HMAT --> built \n",
      "HMAT set, CR = 1, eps_aca = 0.0001, eta = 3\n",
      "BigWhamIO ENDED\n",
      "L2 Rel error 0.14298168129296\n",
      " Now setting things for kernel ... 2DP0 with properties size 2\n",
      "Cluster tree creation time :  0\n",
      "Time for binary cluster tree construction  1.63e-07\n",
      "Binary cluster tree depth = 0\n",
      "Number of blocks = 1\n",
      "Number of full blocks = 1\n",
      "Number of low rank blocks = 0\n",
      "Pattern Created \n",
      " Loop on full blocks construction  \n",
      " N full blocks 1 \n",
      "Loop on low rank blocks construction\n",
      "N low rank blocks 0\n",
      "dof_dimension: 2\n",
      "Creation of hmat done in 0.00622942\n",
      "Compression ratio - 1\n",
      "Hmat object - built \n",
      "HMAT --> built \n",
      "HMAT set, CR = 1, eps_aca = 0.0001, eta = 3\n",
      "BigWhamIO ENDED\n",
      "L2 Rel error 0.04709568447731429\n",
      " Now setting things for kernel ... 2DP0 with properties size 2\n",
      "Cluster tree creation time :  0\n",
      "Time for binary cluster tree construction  0.000104399\n",
      "Binary cluster tree depth = 4\n",
      "Number of blocks = 112\n",
      "Number of full blocks = 46\n",
      "Number of low rank blocks = 66\n",
      "Pattern Created \n",
      " Loop on full blocks construction  \n",
      " N full blocks 46 \n",
      "Loop on low rank blocks construction\n",
      "N low rank blocks 66\n",
      "dof_dimension: 2\n",
      "Creation of hmat done in 0.0250665\n",
      "Compression ratio - 0.239186\n",
      "Hmat object - built \n",
      "HMAT --> built \n",
      "HMAT set, CR = 0.239186, eps_aca = 0.0001, eta = 3\n",
      "BigWhamIO ENDED\n",
      "L2 Rel error 0.014946281372668653\n",
      " Now setting things for kernel ... 2DP0 with properties size 2\n",
      "Cluster tree creation time :  0\n",
      "Time for binary cluster tree construction  0.00213186\n",
      "Binary cluster tree depth = 7\n",
      "Number of blocks = 1102\n",
      "Number of full blocks = 382\n",
      "Number of low rank blocks = 720\n",
      "Pattern Created \n",
      " Loop on full blocks construction  \n",
      " N full blocks 382 \n",
      "Loop on low rank blocks construction\n",
      "N low rank blocks 720\n",
      "dof_dimension: 2\n",
      "Creation of hmat done in 0.40169\n",
      "Compression ratio - 0.0373597\n",
      "Hmat object - built \n",
      "HMAT --> built \n",
      "HMAT set, CR = 0.0373597, eps_aca = 0.0001, eta = 3\n",
      "BigWhamIO ENDED\n",
      "L2 Rel error 0.004727695970546323\n",
      " Now setting things for kernel ... 2DP0 with properties size 2\n",
      "Cluster tree creation time :  0\n",
      "Time for binary cluster tree construction  0.0326417\n",
      "Binary cluster tree depth = 10\n",
      "Number of blocks = 9148\n",
      "Number of full blocks = 3070\n",
      "Number of low rank blocks = 6078\n",
      "Pattern Created \n",
      " Loop on full blocks construction  \n",
      " N full blocks 3070 \n",
      "Loop on low rank blocks construction\n",
      "N low rank blocks 6078\n",
      "dof_dimension: 2\n",
      "Creation of hmat done in 6.81938\n",
      "Compression ratio - 0.00516833\n",
      "Hmat object - built \n",
      "HMAT --> built \n",
      "HMAT set, CR = 0.00516833, eps_aca = 0.0001, eta = 3\n",
      "BigWhamIO ENDED\n",
      "L2 Rel error 0.0014950739479555623\n"
     ]
    }
   ],
   "source": [
    "nelts_array = [10**i for i in range(6)]\n",
    "rel_err_array = []\n",
    "\n",
    "for nelts in nelts_array:\n",
    "    # Mesh\n",
    "    coor1D = np.linspace(-c, c, nelts + 1)\n",
    "    coor = np.transpose(np.array([coor1D, coor1D * 0.0]))\n",
    "    conn = np.fromfunction(lambda i, j: i + j, (nelts, 2), dtype=np.int_)\n",
    "\n",
    "    # H-matrix parameters\n",
    "    max_leaf_size = 100\n",
    "    eta = 3.\n",
    "    eps_aca = 1.e-4\n",
    "\n",
    "    # Hmatrix\n",
    "    kernel = \"2DP0\"\n",
    "    elas_prop = np.array([E, nu])\n",
    "    hmat = Hmatrix(kernel, coor, conn, elas_prop, max_leaf_size, eta, eps_aca)\n",
    "\n",
    "    col_pts = hmat.getMeshCollocationPoints()\n",
    "\n",
    "    dd = np.zeros(col_pts.shape)\n",
    "\n",
    "    pzl2 = np.sqrt(c**2 - a**2)\n",
    "    x_pzl2 = col_pts[:, 0]*pzl2\n",
    "    ctzl2 = np.sqrt(c**2 - col_pts[:, 0]**2)\n",
    "    a_ctzl2 = a*ctzl2\n",
    "\n",
    "    dd[:, 1] = pre_fac * (col_pts[:, 0]*np.log(abs((x_pzl2 + a_ctzl2)/(x_pzl2 - a_ctzl2))) - a*np.log(abs((pzl2 + ctzl2)/(pzl2 - ctzl2))))\n",
    "\n",
    "    # calculate tractions\n",
    "    t = hmat.matvec(dd.flatten())\n",
    "\n",
    "    t_anal = np.zeros(col_pts.shape)\n",
    "    t_anal[:, 1] = ct_pressure\n",
    "    for i in range(len(t_anal)):\n",
    "        if abs(col_pts[i][0])>=a:\n",
    "            t_anal[i][1] = pz_pressure\n",
    "\n",
    "    rel_err = np.linalg.norm(t - t_anal.flatten()) / t.shape[0]\n",
    "    print(\"L2 Rel error {}\".format(rel_err))\n",
    "    rel_err_array.append(rel_err)\n",
    "\n",
    "    '''\n",
    "    info\n",
    "    dd_calc_norm = dd_calc/(a*pre_fac)\n",
    "    plt.figure()\n",
    "    #plt.plot(np.linalg.norm(col_pts, axis=1), dd_calc.reshape(-1, 2), \".k\")\n",
    "    plt.plot(col_pts[:, 0], dd_calc_norm.reshape(-1, 2)[:, 1], \".\")\n",
    "    plt.plot(col_pts[:, 0], dd.reshape(-1, 2)[:, 1], \".\")\n",
    "    #plt.ylim([-0.01, 0.01])\n",
    "    '''"
   ]
  },
  {
   "cell_type": "code",
   "execution_count": 85,
   "id": "8a3c139b",
   "metadata": {},
   "outputs": [
    {
     "data": {
      "image/png": "[encoded data removed]",
      "text/plain": [
       "<Figure size 350x350 with 1 Axes>"
      ]
     },
     "metadata": {},
     "output_type": "display_data"
    }
   ],
   "source": [
    "h_array = [1/nelts for nelts in nelts_array]\n",
    "\n",
    "plt.figure()\n",
    "plt.plot(h_array, rel_err_array)\n",
    "plt.title(\"Relative error vs h\")\n",
    "plt.xlabel(\"h\")\n",
    "plt.ylabel(\"L2 relative error\")\n",
    "#saves fig - remember to remove\n",
    "#plt.savefig('rel_err_h.png', dpi=100, bbox_inches='tight')\n",
    "plt.show()"
   ]
  },
  {
   "cell_type": "code",
   "execution_count": 87,
   "id": "8e043a59",
   "metadata": {},
   "outputs": [
    {
     "data": {
      "image/png": "[encoded data removed]",
      "text/plain": [
       "<Figure size 350x350 with 1 Axes>"
      ]
     },
     "metadata": {},
     "output_type": "display_data"
    }
   ],
   "source": [
    "plt.figure()\n",
    "plt.plot(h_array, rel_err_array)\n",
    "plt.title(\"Log10 of relative error\")\n",
    "plt.xlabel(\"h\")\n",
    "plt.ylabel(\"L2 relative error\")\n",
    "plt.yscale('log')\n",
    "plt.xscale('log')\n",
    "#saves fig - remember to remove\n",
    "#plt.savefig('log_rel_err_h.png', dpi=100, bbox_inches='tight')\n",
    "plt.show()"
   ]
  },
  {
   "cell_type": "code",
   "execution_count": 95,
   "id": "e5c300c0",
   "metadata": {},
   "outputs": [
    {
     "name": "stdout",
     "output_type": "stream",
     "text": [
      "[1.0, 0.1, 0.01, 0.001, 0.0001, 1e-05]\n",
      "[0.340651021557473, 0.14298168129296, 0.04709568447731429, 0.014946281372668653, 0.004727695970546323, 0.0014950739479555623]\n",
      "0.4994838931808653\n",
      "-0.754326309140428\n"
     ]
    }
   ],
   "source": [
    "print(h_array)\n",
    "print(rel_err_array)\n",
    "\n",
    "log_h = np.log(np.asarray(h_array)[2:])\n",
    "log_rel_array = np.log(np.asarray(rel_err_array)[2:])\n",
    "\n",
    "m, c = np.polyfit(log_h, log_rel_array, 1)\n",
    "\n",
    "print(m)\n",
    "print(c)"
   ]
  },
  {
   "cell_type": "code",
   "execution_count": 93,
   "id": "6f7542d3",
   "metadata": {},
   "outputs": [
    {
     "data": {
      "image/png": "[encoded data removed]",
      "text/plain": [
       "<Figure size 350x350 with 1 Axes>"
      ]
     },
     "metadata": {},
     "output_type": "display_data"
    }
   ],
   "source": [
    "plt.figure()\n",
    "plt.plot(h_array, rel_err_array, \"*-\")\n",
    "plt.plot(h_array, 0.5*np.array(h_array) ** (m) , \"--\")\n",
    "plt.title(\"Log10 of relative error in h\")\n",
    "plt.xlabel(\"h\")\n",
    "plt.ylabel(\"L2 relative error\")\n",
    "plt.yscale('log',base=10)\n",
    "plt.xscale('log',base=10)\n",
    "#saves fig - remember to remove\n",
    "# plt.savefig('log2_rel_err_h.png', dpi=100, bbox_inches='tight')\n",
    "# plt.show()"
   ]
  }
 ],
 "metadata": {
  "kernelspec": {
   "display_name": "Python 3 (ipykernel)",
   "language": "python",
   "name": "python3"
  },
  "language_info": {
   "codemirror_mode": {
    "name": "ipython",
    "version": 3
   },
   "file_extension": ".py",
   "mimetype": "text/x-python",
   "name": "python",
   "nbconvert_exporter": "python",
   "pygments_lexer": "ipython3",
   "version": "3.10.10"
  }
 },
 "nbformat": 4,
 "nbformat_minor": 5
}
