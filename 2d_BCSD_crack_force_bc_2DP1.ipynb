{
 "cells": [
  {
   "attachments": {},
   "cell_type": "markdown",
   "id": "57c63c3c-181f-4b92-961e-31fa8f4f587d",
   "metadata": {
    "tags": []
   },
   "source": [
    "# 2D BCSD Crack inverse problem example (2DP1)"
   ]
  },
  {
   "cell_type": "code",
   "execution_count": 1,
   "id": "3aeaea83-1794-4f4f-bd95-807d900e301f",
   "metadata": {},
   "outputs": [],
   "source": [
    "import numpy as np\n",
    "import sys\n",
    "import os\n",
    "np.set_printoptions(precision=5, suppress=True)\n",
    "import matplotlib.pyplot as plt\n",
    "from matplotlib import ticker, cm, colors\n",
    "from scipy.sparse.linalg import gmres\n",
    "\n",
    "%matplotlib inline\n",
    "# %config InlineBackend.figure_format = 'retina'\n",
    "plt.rcParams['figure.figsize'] = [3.5, 3.5]\n",
    "plt.rcParams['font.size'] = 15\n",
    "plt.rcParams['text.usetex']=True\n",
    "plt.rcParams[\"savefig.bbox\"] = \"tight\"\n",
    "plt.rcParams[\"savefig.pad_inches\"] = 0.1\n",
    "plt.rcParams[\"savefig.dpi\"] = 100\n",
    "plt.rcParams[\"text.latex.preamble\"] =r'\\usepackage{amsmath}'+ r'\\usepackage{amssymb}' + r'\\usepackage{accents}'+ r'\\usepackage{bm}'+ r'\\boldmath'+ r'\\renewcommand{\\v}[1]{\\boldsymbol{{#1}}}'+ r'\\DeclareRobustCommand{\\sot}[1]{\\boldsymbol{{#1}}}'\n",
    "\n",
    "norm1 = lambda a : np.linalg.norm(a, axis=1)\n",
    "norm = lambda a : np.linalg.norm(a)\n",
    "\n",
    "home = os.environ['HOME'] \n",
    "# sys.path.append(home + \"/geolab/dev_bigwham/build/interfaces/python\")\n",
    "# from bigwham4py import Hmatrix  # linear operator file\n",
    "\n",
    "sys.path.append(home + \"/Desktop/GEL/BigWham/build/interfaces/python\")\n",
    "from hmatrix import Hmatrix  # linear operator file"
   ]
  },
  {
   "cell_type": "code",
   "execution_count": 2,
   "id": "251b517b-4f79-4596-a914-72131777205a",
   "metadata": {
    "tags": []
   },
   "outputs": [
    {
     "name": "stdout",
     "output_type": "stream",
     "text": [
      " Now setting things for kernel ... 2DP1 with properties size 2\n",
      "Cluster tree creation time :  0\n",
      "Time for binary cluster tree construction  2.323e-06\n",
      "Binary cluster tree depth = 1\n",
      "Number of blocks = 4\n",
      "Number of full blocks = 4\n",
      "Number of low rank blocks = 0\n",
      "Pattern Created \n",
      " Loop on full blocks construction  \n",
      " N full blocks 4 \n",
      "Loop on low rank blocks construction\n",
      "N low rank blocks 0\n",
      "dof_dimension: 2\n",
      "Creation of hmat done in 0.0104979\n",
      "Compression ratio - 1\n",
      "Hmat object - built \n",
      "HMAT --> built \n",
      "HMAT set, CR = 1, eps_aca = 0.0001, eta = 3\n",
      "BigWhamIO ENDED\n"
     ]
    }
   ],
   "source": [
    "G = 1.0\n",
    "nu = 0.25\n",
    "E = (2 * G) * (1 + nu)\n",
    "alpha = 1 - nu\n",
    "\n",
    "tau_F = 1.0\n",
    "sigma_A = (2 * tau_F)/3\n",
    "\n",
    "ct_pressure = - sigma_A\n",
    "pz_pressure = tau_F - sigma_A\n",
    "\n",
    "pre_fac = - 2 * ((alpha*tau_F) / (np.pi*G))\n",
    "\n",
    "a = 1.0\n",
    "pz_fac = 1 / (np.cos((np.pi*sigma_A)/(2*tau_F)))\n",
    "c = 2*a\n",
    "\n",
    "#plastic zone formula\n",
    "#pz_fac_2 = 1 + 2*pz_fac*np.sin((np.pi*sigma_A)/(4*tau_F))**2\n",
    "#c_2 = a*pz_fac_2\n",
    "\n",
    "# Mesh\n",
    "nelts = 100\n",
    "coor1D = np.linspace(-c, c, nelts + 1)\n",
    "coor = np.transpose(np.array([coor1D, coor1D * 0.0]))\n",
    "conn = np.fromfunction(lambda i, j: i + j, (nelts, 2), dtype=np.int_)\n",
    "\n",
    "# H-matrix parameters\n",
    "max_leaf_size = 100\n",
    "eta = 3.\n",
    "eps_aca = 1.e-4\n",
    "\n",
    "# Hmatrix\n",
    "kernel = \"2DP1\"\n",
    "elas_prop = np.array([E, nu])\n",
    "hmat = Hmatrix(kernel, coor, conn, elas_prop, max_leaf_size, eta, eps_aca)\n",
    "\n",
    "col_pts = hmat.getMeshCollocationPoints()"
   ]
  },
  {
   "cell_type": "code",
   "execution_count": 3,
   "id": "36779d42",
   "metadata": {},
   "outputs": [],
   "source": [
    "trac = np.zeros(col_pts.shape)\n",
    "trac[:, 1] = ct_pressure\n",
    "for i in range(len(trac)):\n",
    "    if abs(col_pts[i][0])>=a:\n",
    "        trac[i][1] = pz_pressure\n",
    "#print(trac)\n",
    "\n",
    "u, info = gmres(hmat, hmat.convert_to_local(trac.flatten()))\n",
    "dd_calc = hmat.convert_to_global(u)"
   ]
  },
  {
   "cell_type": "code",
   "execution_count": 4,
   "id": "355e4ca6",
   "metadata": {},
   "outputs": [
    {
     "name": "stdout",
     "output_type": "stream",
     "text": [
      "Pressure between x = - 1.0  and + 1.0 is =  -0.6666666666666666\n",
      "Pressure between |x| =  1.0  and  2.0  is =  0.33333333333333337\n"
     ]
    },
    {
     "data": {
      "image/png": "[encoded data removed]",
      "text/plain": [
       "<Figure size 350x350 with 1 Axes>"
      ]
     },
     "metadata": {},
     "output_type": "display_data"
    }
   ],
   "source": [
    "plt.figure()\n",
    "plt.plot(col_pts[:, 0], trac[:, 1], color='r')\n",
    "print(\"Pressure between x = -\", a , \" and +\", a , \"is = \", ct_pressure)\n",
    "print(\"Pressure between |x| = \", a , \" and \", c , \" is = \", pz_pressure)"
   ]
  },
  {
   "cell_type": "code",
   "execution_count": 5,
   "id": "0ee72893",
   "metadata": {},
   "outputs": [
    {
     "data": {
      "text/plain": [
       "[<matplotlib.lines.Line2D at 0x7fc7687c4f40>]"
      ]
     },
     "execution_count": 5,
     "metadata": {},
     "output_type": "execute_result"
    },
    {
     "data": {
      "image/png": "[encoded data removed]",
      "text/plain": [
       "<Figure size 350x350 with 1 Axes>"
      ]
     },
     "metadata": {},
     "output_type": "display_data"
    }
   ],
   "source": [
    "info\n",
    "dd_calc_norm = dd_calc/(a*pre_fac)\n",
    "plt.figure()\n",
    "#plt.plot(np.linalg.norm(col_pts, axis=1), dd_calc.reshape(-1, 2), \".k\")\n",
    "plt.plot(col_pts[:, 0], dd_calc_norm.reshape(-1, 2)[:, 1], \".\")\n",
    "#plt.ylim([-0.01, 0.01])"
   ]
  },
  {
   "cell_type": "code",
   "execution_count": 69,
   "id": "647eab8f",
   "metadata": {},
   "outputs": [
    {
     "name": "stdout",
     "output_type": "stream",
     "text": [
      " Now setting things for kernel ... 2DP0 with properties size 2\n",
      "Cluster tree creation time :  0\n",
      "Time for binary cluster tree construction  2.8e-07\n",
      "Binary cluster tree depth = 0\n",
      "Number of blocks = 1\n",
      "Number of full blocks = 1\n",
      "Number of low rank blocks = 0\n",
      "Pattern Created \n",
      " Loop on full blocks construction  \n",
      " N full blocks 1 \n",
      "Loop on low rank blocks construction\n",
      "N low rank blocks 0\n",
      "dof_dimension: 2\n",
      "Creation of hmat done in 8.5632e-05\n",
      "Compression ratio - 1\n",
      "Hmat object - built \n",
      "HMAT --> built \n",
      "HMAT set, CR = 1, eps_aca = 0.0001, eta = 3\n",
      "BigWhamIO ENDED\n",
      "L2 Rel error 2.134553508226038\n",
      " Now setting things for kernel ... 2DP0 with properties size 2\n",
      "Cluster tree creation time :  0\n",
      "Time for binary cluster tree construction  1.64e-07\n",
      "Binary cluster tree depth = 0\n",
      "Number of blocks = 1\n",
      "Number of full blocks = 1\n",
      "Number of low rank blocks = 0\n",
      "Pattern Created \n",
      " Loop on full blocks construction  \n",
      " N full blocks 1 \n",
      "Loop on low rank blocks construction\n",
      "N low rank blocks 0\n",
      "dof_dimension: 2\n",
      "Creation of hmat done in 8.1121e-05\n",
      "Compression ratio - 1\n",
      "Hmat object - built \n",
      "HMAT --> built \n",
      "HMAT set, CR = 1, eps_aca = 0.0001, eta = 3\n",
      "BigWhamIO ENDED\n",
      "L2 Rel error 0.21916459565302446\n",
      " Now setting things for kernel ... 2DP0 with properties size 2\n",
      "Cluster tree creation time :  0\n",
      "Time for binary cluster tree construction  1.38e-07\n",
      "Binary cluster tree depth = 0\n",
      "Number of blocks = 1\n",
      "Number of full blocks = 1\n",
      "Number of low rank blocks = 0\n",
      "Pattern Created \n",
      " Loop on full blocks construction  \n",
      " N full blocks 1 \n",
      "Loop on low rank blocks construction\n",
      "N low rank blocks 0\n",
      "dof_dimension: 2\n",
      "Creation of hmat done in 0.00526485\n",
      "Compression ratio - 1\n",
      "Hmat object - built \n",
      "HMAT --> built \n",
      "HMAT set, CR = 1, eps_aca = 0.0001, eta = 3\n",
      "BigWhamIO ENDED\n",
      "L2 Rel error 0.058009800118891876\n",
      " Now setting things for kernel ... 2DP0 with properties size 2\n",
      "Cluster tree creation time :  0\n",
      "Time for binary cluster tree construction  0.000105505\n",
      "Binary cluster tree depth = 4\n",
      "Number of blocks = 112\n",
      "Number of full blocks = 46\n",
      "Number of low rank blocks = 66\n",
      "Pattern Created \n",
      " Loop on full blocks construction  \n",
      " N full blocks 46 \n",
      "Loop on low rank blocks construction\n",
      "N low rank blocks 66\n",
      "dof_dimension: 2\n",
      "Creation of hmat done in 0.0241298\n",
      "Compression ratio - 0.239186\n",
      "Hmat object - built \n",
      "HMAT --> built \n",
      "HMAT set, CR = 0.239186, eps_aca = 0.0001, eta = 3\n",
      "BigWhamIO ENDED\n",
      "L2 Rel error 0.018763278692101575\n",
      " Now setting things for kernel ... 2DP0 with properties size 2\n",
      "Cluster tree creation time :  0\n",
      "Time for binary cluster tree construction  0.00213041\n",
      "Binary cluster tree depth = 7\n",
      "Number of blocks = 1102\n",
      "Number of full blocks = 382\n",
      "Number of low rank blocks = 720\n",
      "Pattern Created \n",
      " Loop on full blocks construction  \n",
      " N full blocks 382 \n",
      "Loop on low rank blocks construction\n",
      "N low rank blocks 720\n",
      "dof_dimension: 2\n",
      "Creation of hmat done in 0.475184\n",
      "Compression ratio - 0.0373597\n",
      "Hmat object - built \n",
      "HMAT --> built \n",
      "HMAT set, CR = 0.0373597, eps_aca = 0.0001, eta = 3\n",
      "BigWhamIO ENDED\n",
      "L2 Rel error 0.005933421862324179\n"
     ]
    }
   ],
   "source": [
    "nelts_array = [10**i for i in range(5)]\n",
    "rel_err_array = []\n",
    "\n",
    "for nelts in nelts_array:\n",
    "    # Mesh\n",
    "    coor1D = np.linspace(-c, c, nelts + 1)\n",
    "    coor = np.transpose(np.array([coor1D, coor1D * 0.0]))\n",
    "    conn = np.fromfunction(lambda i, j: i + j, (nelts, 2), dtype=np.int_)\n",
    "\n",
    "    # H-matrix parameters\n",
    "    max_leaf_size = 100\n",
    "    eta = 3.\n",
    "    eps_aca = 1.e-4\n",
    "\n",
    "    # Hmatrix\n",
    "    kernel = \"2DP0\"\n",
    "    elas_prop = np.array([E, nu])\n",
    "    hmat = Hmatrix(kernel, coor, conn, elas_prop, max_leaf_size, eta, eps_aca)\n",
    "\n",
    "    col_pts = hmat.getMeshCollocationPoints()\n",
    "\n",
    "    trac = np.zeros(col_pts.shape)\n",
    "    trac[:, 1] = ct_pressure\n",
    "    for i in range(len(trac)):\n",
    "        if abs(col_pts[i][0])>=a:\n",
    "            trac[i][1] = pz_pressure\n",
    "    #print(trac)\n",
    "\n",
    "    u, info = gmres(hmat, hmat.convert_to_local(trac.flatten()))\n",
    "    dd_calc = hmat.convert_to_global(u)\n",
    "\n",
    "    dd_calc_norm = dd_calc/(a*pre_fac)\n",
    "\n",
    "    dd = np.zeros(col_pts.shape)\n",
    "    pzl2 = np.sqrt(c**2 - a**2)\n",
    "    x_pzl2 = col_pts[:, 0]*pzl2\n",
    "    ctzl2 = np.sqrt(c**2 - col_pts[:, 0]**2)\n",
    "    a_ctzl2 = a*ctzl2\n",
    "\n",
    "    dd[:, 1] = pre_fac * (col_pts[:, 0]*np.log(abs((x_pzl2 + a_ctzl2)/(x_pzl2 - a_ctzl2))) - a*np.log(abs((pzl2 + ctzl2)/(pzl2 - ctzl2))))\n",
    "\n",
    "    rel_err = np.linalg.norm(dd.flatten() - dd_calc_norm) / dd.shape[0]\n",
    "    print(\"L2 Rel error {}\".format(rel_err))\n",
    "    rel_err_array.append(rel_err)\n",
    "\n",
    "    '''\n",
    "    info\n",
    "    dd_calc_norm = dd_calc/(a*pre_fac)\n",
    "    plt.figure()\n",
    "    #plt.plot(np.linalg.norm(col_pts, axis=1), dd_calc.reshape(-1, 2), \".k\")\n",
    "    plt.plot(col_pts[:, 0], dd_calc_norm.reshape(-1, 2)[:, 1], \".\")\n",
    "    plt.plot(col_pts[:, 0], dd.reshape(-1, 2)[:, 1], \".\")\n",
    "    #plt.ylim([-0.01, 0.01])\n",
    "    '''"
   ]
  },
  {
   "cell_type": "code",
   "execution_count": 74,
   "id": "2d8d3985",
   "metadata": {},
   "outputs": [
    {
     "data": {
      "image/png": "[encoded data removed]",
      "text/plain": [
       "<Figure size 350x350 with 1 Axes>"
      ]
     },
     "metadata": {},
     "output_type": "display_data"
    }
   ],
   "source": [
    "h_array = [1/nelts for nelts in nelts_array]\n",
    "\n",
    "plt.figure()\n",
    "plt.plot(h_array, rel_err_array)\n",
    "plt.title(\"Relative error vs h\")\n",
    "plt.xlabel(\"h\")\n",
    "plt.ylabel(\"L2 relative error\")\n",
    "#saves fig - remember to remove\n",
    "#plt.savefig('rel_err_h.png', dpi=100, bbox_inches='tight')\n",
    "plt.show()"
   ]
  },
  {
   "cell_type": "code",
   "execution_count": 76,
   "id": "4ba42875",
   "metadata": {},
   "outputs": [
    {
     "data": {
      "image/png": "[encoded data removed]",
      "text/plain": [
       "<Figure size 350x350 with 1 Axes>"
      ]
     },
     "metadata": {},
     "output_type": "display_data"
    }
   ],
   "source": [
    "plt.figure()\n",
    "plt.plot(h_array, rel_err_array)\n",
    "plt.title(\"Log10 of relative error\")\n",
    "plt.xlabel(\"nelts\")\n",
    "plt.ylabel(\"L2 relative error\")\n",
    "plt.yscale('log')\n",
    "plt.xscale('log')\n",
    "#saves fig - remember to remove\n",
    "#plt.savefig('log_rel_err_h.png', dpi=100, bbox_inches='tight')\n",
    "plt.show()"
   ]
  },
  {
   "cell_type": "code",
   "execution_count": 80,
   "id": "bda078e2",
   "metadata": {},
   "outputs": [
    {
     "name": "stdout",
     "output_type": "stream",
     "text": [
      "[1.0, 0.1, 0.01, 0.001, 0.0001]\n",
      "[2.134553508226038, 0.21916459565302446, 0.058009800118891876, 0.018763278692101575, 0.005933421862324179]\n",
      "0.4950980707819062\n",
      "-0.5633673830410317\n"
     ]
    }
   ],
   "source": [
    "print(h_array)\n",
    "print(rel_err_array)\n",
    "\n",
    "log_h = np.log(np.asarray(h_array)[2:])\n",
    "log_rel_array = np.log(np.asarray(rel_err_array)[2:])\n",
    "\n",
    "m, c = np.polyfit(log_h, log_rel_array, 1)\n",
    "\n",
    "print(m)\n",
    "print(c)"
   ]
  },
  {
   "cell_type": "code",
   "execution_count": 79,
   "id": "e505186f",
   "metadata": {},
   "outputs": [
    {
     "data": {
      "image/png": "[encoded data removed]",
      "text/plain": [
       "<Figure size 350x350 with 1 Axes>"
      ]
     },
     "metadata": {},
     "output_type": "display_data"
    }
   ],
   "source": [
    "plt.figure()\n",
    "plt.plot(h_array, rel_err_array, \"*-\")\n",
    "plt.plot(h_array, 0.5*np.array(h_array) ** (m) , \"--\")\n",
    "plt.title(\"Log10 of relative error in h\")\n",
    "plt.xlabel(\"h\")\n",
    "plt.ylabel(\"L2 relative error\")\n",
    "plt.yscale('log',base=10)\n",
    "plt.xscale('log',base=10)\n",
    "#saves fig - remember to remove\n",
    "# plt.savefig('log2_rel_err_h.png', dpi=100, bbox_inches='tight')\n",
    "# plt.show()"
   ]
  }
 ],
 "metadata": {
  "kernelspec": {
   "display_name": "Python 3 (ipykernel)",
   "language": "python",
   "name": "python3"
  },
  "language_info": {
   "codemirror_mode": {
    "name": "ipython",
    "version": 3
   },
   "file_extension": ".py",
   "mimetype": "text/x-python",
   "name": "python",
   "nbconvert_exporter": "python",
   "pygments_lexer": "ipython3",
   "version": "3.10.10"
  }
 },
 "nbformat": 4,
 "nbformat_minor": 5
}
